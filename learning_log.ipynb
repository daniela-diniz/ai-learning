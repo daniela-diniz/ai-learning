{
  "cells": [
    {
      "cell_type": "markdown",
      "metadata": {},
      "source": [
        "# Week 01 — Logic-Only Learning Log (06/10/2025)\n",
        "\n",
        "_AI Learning Journey • Dani_\n"
      ]
    },
    {
      "cell_type": "markdown",
      "metadata": {},
      "source": [
        "## 📚 Study Summary (Day 1)\n",
        "- Focus: **Logic of Programming** (no Python yet), **algorithms**, and **linear algebra (vectors: independence)**.\n",
        "- Outcome: drafted everyday algorithms in text; drew one simple flow; reviewed basic control structures (sequence, decision, repetition)."
      ]
    },
    {
      "cell_type": "markdown",
      "metadata": {},
      "source": [
        "## 🔗 Resources Used (06/10/2025)\n",
        "- Khan Academy — Linear Independence (video 1)\n",
        "  - https://pt.khanacademy.org/math/linear-algebra/vectors-and-spaces/linear-independence/v/more-on-linear-independence\n",
        "- Curso em Vídeo — Algoritmo (primeiro algoritmo)\n",
        "  - https://www.cursoemvideo.com/curso/curso-de-algoritmo/aulas/algoritmo/modulos/primeiro-algoritmo/\n",
        "- Voitto — Comandos, Funções e Exercícios (módulo)\n",
        "  - https://voitto.com.br/online/assistir/7162\n",
        "- Trybe — Lógica de Programação (Módulo 3 — Conceitos de algoritmos)\n",
        "  - https://cursos.betrybe.com/191918-logica-de-programacao\n",
        "- Alura — Começando em Programação: carreira e primeiros passos\n",
        "  - https://cursos.alura.com.br/corp/devops-administracao-operacao-e-monitoramento-de-sistemas-nivelamento-173567-p1001768"
      ]
    },
    {
      "cell_type": "markdown",
      "metadata": {},
      "source": [
        "## 🧠 Key Concepts Captured\n",
        "- **Algorithm**: finite, unambiguous sequence of steps producing an output.\n",
        "- **Control structures**: sequence → decision (IF/ELSE) → repetition (WHILE/FOR).\n",
        "- **Abstraction**: describe intent, not implementation details yet.\n",
        "- **Linear Independence (intuition)**: a set of vectors is independent if none can be written as a combination of the others."
      ]
    },
    {
      "cell_type": "markdown",
      "metadata": {},
      "source": [
        "## ✍️ Pseudocode Exercises (Logic only)\n",
        "### 1) Make Coffee (everyday algorithm)\n",
        "```\n",
        "BEGIN\n",
        "  CHECK water_level\n",
        "  IF water_level < needed THEN FILL water\n",
        "  ADD coffee_powder\n",
        "  TURN_ON machine\n",
        "  WAIT until coffee_ready\n",
        "  POUR into mug\n",
        "  IF wants_milk THEN ADD milk\n",
        "  IF wants_sugar THEN ADD sugar\n",
        "  STIR\n",
        "END\n",
        "```\n",
        "\n",
        "### 2) Even or Odd (decision only)\n",
        "```\n",
        "BEGIN\n",
        "  READ n\n",
        "  IF (n mod 2 == 0) THEN PRINT \"even\" ELSE PRINT \"odd\"\n",
        "END\n",
        "```\n",
        "\n",
        "### 3) Guessing Game (decision + repetition)\n",
        "```\n",
        "BEGIN\n",
        "  SET secret_number\n",
        "  REPEAT\n",
        "    READ guess\n",
        "    IF guess < secret_number THEN PRINT \"higher\"\n",
        "    ELSE IF guess > secret_number THEN PRINT \"lower\"\n",
        "  UNTIL guess == secret_number\n",
        "  PRINT \"you got it!\"\n",
        "END\n",
        "```"
      ]
    },
    {
      "cell_type": "markdown",
      "metadata": {},
      "source": [
        "## 🔀 ASCII Flow (Make Coffee)\n",
        "```\n",
        " [Start]\n",
        "    |\n",
        "    v\n",
        "[Check water] --(low?)--> [Fill water]\n",
        "    |                         |\n",
        "    v                         v\n",
        "[Add coffee] ------------> [Turn on]\n",
        "    |                         |\n",
        "    v                         v\n",
        " [Wait ready] ------------> [Pour]\n",
        "    |                         |\n",
        "    v                         v\n",
        "[Milk?]--yes-->[Add milk]   [Sugar?]--yes-->[Add sugar]\n",
        "    |                         |\n",
        "    +-----------no------------+-----------no-----------+\n",
        "                              v\n",
        "                            [Stir]\n",
        "                              |\n",
        "                              v\n",
        "                            [End]\n",
        "```"
      ]
    },
    {
      "cell_type": "markdown",
      "metadata": {},
      "source": [
        "## 🗂️ Files to Organize\n",
        "- Save flowcharts as images in `week01/fluxogramas/` (PNG/PDF).\n",
        "- Save pseudocode text files in `week01/pseudocodigos/`.\n",
        "- Keep notes in `week01/notes.md`."
      ]
    },
    {
      "cell_type": "markdown",
      "metadata": {},
      "source": [
        "## 🪞 Quick Reflection\n",
        "- **Easy today**: __________________________________________\n",
        "- **Confusing**: __________________________________________\n",
        "- **Questions**: __________________________________________\n",
        "- **1 sentence takeaway**: _________________________________"
      ]
    },
    {
      "cell_type": "markdown",
      "metadata": {},
      "source": [
        "## 🗓️ Plan for Tomorrow (07/10)\n",
        "- Trybe: start **Module 4 – Applying logic with challenges** (do 2 problems).\n",
        "- Curso em Vídeo: **Aulas 3–4** (entrada, operadores lógicos).\n",
        "- Write 1 new algorithm using decision + loop in **pseudocode**."
      ]
    },
    {
      "cell_type": "code",
      "metadata": {
        "editable": true,
        "deletable": true
      },
      "execution_count": null,
      "outputs": [],
      "source": [
        "# Placeholder for later: translating pseudocode to Python\n",
        "# (Intentionally left blank this week)"
      ]
    }
  ],
  "metadata": {
    "kernelspec": {
      "display_name": "Python 3",
      "language": "python",
      "name": "python3"
    },
    "language_info": {
      "name": "python",
      "version": "3.x"
    }
  },
  "nbformat": 4,
  "nbformat_minor": 5
}